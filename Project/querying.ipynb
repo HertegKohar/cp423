{
 "cells": [
  {
   "cell_type": "code",
   "execution_count": 1,
   "metadata": {},
   "outputs": [],
   "source": [
    "from sklearn.feature_extraction.text import TfidfVectorizer\n",
    "from sklearn.metrics.pairwise import cosine_similarity\n",
    "from nltk.corpus import stopwords\n",
    "from nltk.tokenize import RegexpTokenizer, sent_tokenize\n",
    "from dataclasses import dataclass, field\n",
    "from colorama import Fore, Style\n",
    "import pandas as pd\n",
    "import json\n",
    "import os"
   ]
  },
  {
   "cell_type": "code",
   "execution_count": 2,
   "metadata": {},
   "outputs": [],
   "source": [
    "with open(\"inverted_index.json\", \"r\") as f:\n",
    "    inverted_index = json.load(f)\n",
    "with open(\"mapping.json\", \"r\") as f:\n",
    "    mapping = json.load(f)\n",
    "reversed_mapping = {v: k for k, v in mapping.items()}"
   ]
  },
  {
   "cell_type": "code",
   "execution_count": 3,
   "metadata": {},
   "outputs": [],
   "source": [
    "def preprocess_query(query):\n",
    "    df = pd.DataFrame({\"text\": [query]})\n",
    "    tokenizer = RegexpTokenizer(r\"\\w+\")\n",
    "    stop_words = set(stopwords.words(\"english\"))\n",
    "    df[\"text\"] = df[\"text\"].apply(lambda x: tokenizer.tokenize(x.lower()))\n",
    "    df[\"text\"] = df[\"text\"].apply(lambda x: [w for w in x if not w in stop_words])\n",
    "    df[\"text\"] = df[\"text\"].apply(lambda x: \" \".join(x))\n",
    "    return df[\"text\"]"
   ]
  },
  {
   "cell_type": "code",
   "execution_count": 4,
   "metadata": {},
   "outputs": [
    {
     "data": {
      "text/plain": [
       "0    pollen allergy\n",
       "Name: text, dtype: object"
      ]
     },
     "execution_count": 4,
     "metadata": {},
     "output_type": "execute_result"
    }
   ],
   "source": [
    "query = \"pollen allergy\"\n",
    "query = preprocess_query(query)\n",
    "query"
   ]
  },
  {
   "cell_type": "code",
   "execution_count": 5,
   "metadata": {},
   "outputs": [
    {
     "data": {
      "text/plain": [
       "[{'soundex': 'P450', 'occurences': [['H54', 1, 'Health']]},\n",
       " {'soundex': 'A462',\n",
       "  'occurences': [['H50', 1, 'Health'],\n",
       "   ['H54', 17, 'Health'],\n",
       "   ['H55', 1, 'Health']]}]"
      ]
     },
     "execution_count": 5,
     "metadata": {},
     "output_type": "execute_result"
    }
   ],
   "source": [
    "def get_docs(query_df, inverted_index):\n",
    "    docs = []\n",
    "    for word in query_df[0].split():\n",
    "        if word in inverted_index:\n",
    "            docs.append(inverted_index[word])\n",
    "    return docs\n",
    "docs = get_docs(query, inverted_index)\n",
    "docs"
   ]
  },
  {
   "cell_type": "code",
   "execution_count": 6,
   "metadata": {},
   "outputs": [],
   "source": [
    "#Make a class to hold document path and similarity score\n",
    "@dataclass\n",
    "class Document:\n",
    "    path: str = field(default=None)\n",
    "    score: float = field(default=None)\n",
    "    hash_: str = field(default=None)"
   ]
  },
  {
   "cell_type": "code",
   "execution_count": 7,
   "metadata": {},
   "outputs": [
    {
     "data": {
      "text/plain": [
       "[Document(path='Health\\\\1bcab2cec7df78495c885f2f817db59d6948908db9d757e1d6bbfe56aa5bfa08.txt', score=None, hash_='H54'),\n",
       " Document(path='Health\\\\0c7426f34b20aa3219e483267affbf36127119eea59f76a6408a05327f78e909.txt', score=None, hash_='H50'),\n",
       " Document(path='Health\\\\2902c166af57cdc4e524f4462e7df211960cb66a846c6747196b80b9ed5f7746.txt', score=None, hash_='H55')]"
      ]
     },
     "execution_count": 7,
     "metadata": {},
     "output_type": "execute_result"
    }
   ],
   "source": [
    "def initialize_documents(docs, reversed_mapping):\n",
    "    seen = set()\n",
    "    documents = []\n",
    "    extension = \".txt\"\n",
    "    for doc in docs:\n",
    "        for occurence in doc[\"occurences\"]:\n",
    "            if occurence[0] not in seen:\n",
    "                document = Document()\n",
    "                path = os.path.join(occurence[2], reversed_mapping[occurence[0]] + extension)\n",
    "                document.path = path\n",
    "                document.hash_ = occurence[0]\n",
    "                documents.append(document)\n",
    "                seen.add(occurence[0])\n",
    "    return documents\n",
    "documents= initialize_documents(docs, reversed_mapping)\n",
    "documents"
   ]
  },
  {
   "cell_type": "code",
   "execution_count": 8,
   "metadata": {},
   "outputs": [],
   "source": [
    "def compute_similarity(documents, query_df):\n",
    "    for document in documents:\n",
    "        with open(document.path, \"r\", encoding=\"utf-8\") as f:\n",
    "            text = f.read()\n",
    "        df = pd.DataFrame({\"text\": [text]})\n",
    "        tokenizer = RegexpTokenizer(r\"\\w+\")\n",
    "        # stop_words = set(stopwords.words(\"english\"))\n",
    "        df[\"text\"] = df[\"text\"].apply(lambda x: tokenizer.tokenize(x.lower()))\n",
    "        # df[\"text\"] = df[\"text\"].apply(lambda x: [w for w in x if not w in stop_words])\n",
    "        df[\"text\"] = df[\"text\"].apply(lambda x: \" \".join(x))\n",
    "        vectorizer = TfidfVectorizer()\n",
    "        X_train_tfidf = vectorizer.fit_transform(df[\"text\"])\n",
    "        X_test_tfidf = vectorizer.transform(query_df)\n",
    "        score = cosine_similarity(X_train_tfidf, X_test_tfidf)\n",
    "        document.score = score[0][0]\n",
    "    documents.sort(key=lambda x: x.score, reverse=True)\n",
    "    return documents\n"
   ]
  },
  {
   "cell_type": "code",
   "execution_count": 9,
   "metadata": {},
   "outputs": [
    {
     "data": {
      "text/plain": [
       "[Document(path='Health\\\\1bcab2cec7df78495c885f2f817db59d6948908db9d757e1d6bbfe56aa5bfa08.txt', score=0.1778260285444014, hash_='H54'),\n",
       " Document(path='Health\\\\0c7426f34b20aa3219e483267affbf36127119eea59f76a6408a05327f78e909.txt', score=0.016934564257464445, hash_='H50'),\n",
       " Document(path='Health\\\\2902c166af57cdc4e524f4462e7df211960cb66a846c6747196b80b9ed5f7746.txt', score=0.014558647529524711, hash_='H55')]"
      ]
     },
     "execution_count": 9,
     "metadata": {},
     "output_type": "execute_result"
    }
   ],
   "source": [
    "document_scores = compute_similarity(documents, query)\n",
    "document_scores"
   ]
  },
  {
   "cell_type": "code",
   "execution_count": 10,
   "metadata": {},
   "outputs": [],
   "source": [
    "def get_snippet(text, query_words):\n",
    "    # Split text into sentences\n",
    "    sentences = sent_tokenize(text)\n",
    "    # Find sentences containing query words\n",
    "    relevant_sentences = [s for s in sentences if any(q.lower() in s.lower() for q in query_words)]\n",
    "    # Join relevant sentences to form snippet\n",
    "    snippet = \"\\n\".join(relevant_sentences)\n",
    "    return snippet\n",
    "\n",
    "\n",
    "def display_highlighted_terms(documents,query):\n",
    "    for document in documents:\n",
    "        with open(document.path, \"r\", encoding=\"utf-8\") as f:\n",
    "            text = f.read()\n",
    "        query_words = query.split()\n",
    "        text = get_snippet(text, query_words)\n",
    "        highlighted_document = text\n",
    "        for term in query_words:\n",
    "            highlighted_document = highlighted_document.replace(\n",
    "                term, f\"{Fore.GREEN}{term}{Style.RESET_ALL}\")\n",
    "        print(f'Document: {document.hash_}, Path: {document.path}')\n",
    "        print(f\"{highlighted_document}\\n\")\n"
   ]
  },
  {
   "cell_type": "code",
   "execution_count": 11,
   "metadata": {},
   "outputs": [
    {
     "name": "stdout",
     "output_type": "stream",
     "text": [
      "Document: H54, Path: Health\\1bcab2cec7df78495c885f2f817db59d6948908db9d757e1d6bbfe56aa5bfa08.txt\n",
      "\u001b[32mallergy\u001b[0m immune system response foreign substance ’ typically harmful body .\n",
      "include certain foods , \u001b[32mpollen\u001b[0m , pet dander .immune system ’ job keep healthy fighting harmful pathogens .\n",
      "include type \u001b[32mallergy\u001b[0m severe \u001b[32mallergy\u001b[0m .take medication anticipated allergic response , may still experience symptoms , may reduced .food allergiesfood allergies trigger swelling , hives , nausea , fatigue , .\n",
      "may take person realize food \u001b[32mallergy\u001b[0m .\n",
      "’ possible , treatment options available .medication\u001b[32mallergy\u001b[0m treatment often includes medications like antihistamines control symptoms .\n",
      "involves several injections course years help body get used \u001b[32mallergy\u001b[0m .\n",
      "successful immunotherapy prevent \u001b[32mallergy\u001b[0m symptoms returning .emergency epinephrinesevere , life-threatening \u001b[32mallergy\u001b[0m , carry emergency epinephrine shot .\n",
      "blood tested presence \u001b[32mallergy\u001b[0m-causing antibodies called immunoglobulin e ( ige ) .\n",
      "skin test common type \u001b[32mallergy\u001b[0m test carried allergist .test , skin pricked scratched small needles containing potential allergens .\n",
      "best way prevent \u001b[32mallergy\u001b[0m symptoms avoid allergens trigger .avoidance effective way prevent food \u001b[32mallergy\u001b[0m symptoms .\n",
      "people associate anaphylaxis food , allergen cause telltale signs :suddenly narrowed airwaysincreased heart ratepossible swelling tongue mouth\u001b[32mallergy\u001b[0m symptoms create many complications .\n",
      "doctor help determine cause symptoms well difference sensitivity full-blown \u001b[32mallergy\u001b[0m .\n",
      "doctor also teach manage \u001b[32mallergy\u001b[0m symptoms avoid worst complications .asthma common respiratory condition .\n",
      "also trigger asthma person ’ never condition .conditions occur together , ’ condition called \u001b[32mallergy\u001b[0m-induced asthma , allergic asthma .\n",
      "allergic asthma affects 60 percent people asthma united states , estimates \u001b[32mallergy\u001b[0m asthma foundation america .runny nose , sneezing , coughing common symptoms allergies .\n",
      "may experience symptoms seasonal \u001b[32mallergy\u001b[0m specific times year , plants first blooming .viruses bacteria cause bronchitis , result allergies .\n",
      "allergens include :cigarette smokeair pollutiondust\u001b[32mpollen\u001b[0mchemical fumesunlike seasonal allergies , many allergens linger environments like houses offices .\n",
      "type skin \u001b[32mallergy\u001b[0m appears quickly , often immediately baby comes contact irritant .\n",
      "\n",
      "Document: H50, Path: Health\\0c7426f34b20aa3219e483267affbf36127119eea59f76a6408a05327f78e909.txt\n",
      "latex \u001b[32mallergy\u001b[0m , though , memory foam mattress still really good option .night sweats sleeping hotfeeling hot sweating night interferes getting good quality sleep , might want consider mattress cooling features tend overheat night .general , all-foam mattresses hotter hybrid innerspring mattresses spring coil foundations allow better airflow .\n",
      "\n",
      "Document: H55, Path: Health\\2902c166af57cdc4e524f4462e7df211960cb66a846c6747196b80b9ed5f7746.txt\n",
      "cellulitis latex \u001b[32mallergy\u001b[0m also serious left untreated .skin disease curable ?examples chronic skin conditions include rosacea , psoriasis , vitiligo .\n",
      "\n"
     ]
    }
   ],
   "source": [
    "display_highlighted_terms(documents, query[0])"
   ]
  }
 ],
 "metadata": {
  "kernelspec": {
   "display_name": "Python 3",
   "language": "python",
   "name": "python3"
  },
  "language_info": {
   "codemirror_mode": {
    "name": "ipython",
    "version": 3
   },
   "file_extension": ".py",
   "mimetype": "text/x-python",
   "name": "python",
   "nbconvert_exporter": "python",
   "pygments_lexer": "ipython3",
   "version": "3.9.1"
  },
  "orig_nbformat": 4
 },
 "nbformat": 4,
 "nbformat_minor": 2
}
