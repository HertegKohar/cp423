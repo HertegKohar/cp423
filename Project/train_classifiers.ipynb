{
 "cells": [
  {
   "cell_type": "code",
   "execution_count": 1,
   "metadata": {},
   "outputs": [],
   "source": [
    "import pandas as pd\n",
    "import matplotlib.pyplot as plt\n",
    "from nltk.tokenize import RegexpTokenizer\n",
    "import numpy as np\n",
    "import os\n",
    "from sklearn.model_selection import train_test_split, cross_validate\n",
    "from sklearn.feature_extraction.text import TfidfVectorizer\n",
    "import joblib"
   ]
  },
  {
   "cell_type": "code",
   "execution_count": 2,
   "metadata": {},
   "outputs": [],
   "source": [
    "TOPICS = [\"Astronomy\", \"Health\", \"Economy\"]\n",
    "TOPICS_MAP = {\"Astronomy\": 0, \"Health\": 1, \"Economy\": 2}"
   ]
  },
  {
   "cell_type": "code",
   "execution_count": 5,
   "metadata": {},
   "outputs": [
    {
     "data": {
      "text/html": [
       "<div>\n",
       "<style scoped>\n",
       "    .dataframe tbody tr th:only-of-type {\n",
       "        vertical-align: middle;\n",
       "    }\n",
       "\n",
       "    .dataframe tbody tr th {\n",
       "        vertical-align: top;\n",
       "    }\n",
       "\n",
       "    .dataframe thead th {\n",
       "        text-align: right;\n",
       "    }\n",
       "</style>\n",
       "<table border=\"1\" class=\"dataframe\">\n",
       "  <thead>\n",
       "    <tr style=\"text-align: right;\">\n",
       "      <th></th>\n",
       "      <th>hash</th>\n",
       "      <th>topic</th>\n",
       "      <th>text</th>\n",
       "    </tr>\n",
       "  </thead>\n",
       "  <tbody>\n",
       "    <tr>\n",
       "      <th>0</th>\n",
       "      <td>070c9fd24e43ba164f3a68dd8c976a57461fceb038a43d...</td>\n",
       "      <td>Astronomy</td>\n",
       "      <td>cosmic countdown begun director james gunn ’ `...</td>\n",
       "    </tr>\n",
       "    <tr>\n",
       "      <th>1</th>\n",
       "      <td>09559783f5ee1852885289ba8fd16625284625dd41875e...</td>\n",
       "      <td>Astronomy</td>\n",
       "      <td>planetary society taking stand nasa 's stalled...</td>\n",
       "    </tr>\n",
       "    <tr>\n",
       "      <th>2</th>\n",
       "      <td>09d01585d21facc6f893ec9c64a6d79ffc107be243f10d...</td>\n",
       "      <td>Astronomy</td>\n",
       "      <td>may helpful receive news updates notifications...</td>\n",
       "    </tr>\n",
       "    <tr>\n",
       "      <th>3</th>\n",
       "      <td>0a3d8dfb0821ff1ed7ad6fd00ad318c667f9300b37ea71...</td>\n",
       "      <td>Astronomy</td>\n",
       "      <td>spacex falcon 9 rocket used first stage launch...</td>\n",
       "    </tr>\n",
       "    <tr>\n",
       "      <th>4</th>\n",
       "      <td>111ab5bb8e4daf91448b849d23e91da843ff026e4803b1...</td>\n",
       "      <td>Astronomy</td>\n",
       "      <td>son 's 40-year-old sketch astronaut dad 's mis...</td>\n",
       "    </tr>\n",
       "    <tr>\n",
       "      <th>...</th>\n",
       "      <td>...</td>\n",
       "      <td>...</td>\n",
       "      <td>...</td>\n",
       "    </tr>\n",
       "    <tr>\n",
       "      <th>160</th>\n",
       "      <td>e2603ae7220618cf35de8713015bf5d225d0cb97765e0b...</td>\n",
       "      <td>Economy</td>\n",
       "      <td>amazon-owned audible started putting ads audio...</td>\n",
       "    </tr>\n",
       "    <tr>\n",
       "      <th>161</th>\n",
       "      <td>e502123029685fc536e71460d80a5a430d94062a51ab90...</td>\n",
       "      <td>Economy</td>\n",
       "      <td>tuesday 's budget included new money create na...</td>\n",
       "    </tr>\n",
       "    <tr>\n",
       "      <th>162</th>\n",
       "      <td>e558e08d8462e014b1e55f2e08f8a16f9f4d891b74c031...</td>\n",
       "      <td>Economy</td>\n",
       "      <td>raymond james says collected responses 48 cana...</td>\n",
       "    </tr>\n",
       "    <tr>\n",
       "      <th>163</th>\n",
       "      <td>e9cdffafbe7284b1a428ec912e065ba17127264fa1737b...</td>\n",
       "      <td>Economy</td>\n",
       "      <td>surge stock could driven idea indictment bad n...</td>\n",
       "    </tr>\n",
       "    <tr>\n",
       "      <th>164</th>\n",
       "      <td>eea2c24632f92505ff2ca5943b32cbbecc275108b6d161...</td>\n",
       "      <td>Economy</td>\n",
       "      <td>10-yr bondnasdaqvolatilityftsenikkei 225cad/eu...</td>\n",
       "    </tr>\n",
       "  </tbody>\n",
       "</table>\n",
       "<p>165 rows × 3 columns</p>\n",
       "</div>"
      ],
      "text/plain": [
       "                                                  hash      topic  \\\n",
       "0    070c9fd24e43ba164f3a68dd8c976a57461fceb038a43d...  Astronomy   \n",
       "1    09559783f5ee1852885289ba8fd16625284625dd41875e...  Astronomy   \n",
       "2    09d01585d21facc6f893ec9c64a6d79ffc107be243f10d...  Astronomy   \n",
       "3    0a3d8dfb0821ff1ed7ad6fd00ad318c667f9300b37ea71...  Astronomy   \n",
       "4    111ab5bb8e4daf91448b849d23e91da843ff026e4803b1...  Astronomy   \n",
       "..                                                 ...        ...   \n",
       "160  e2603ae7220618cf35de8713015bf5d225d0cb97765e0b...    Economy   \n",
       "161  e502123029685fc536e71460d80a5a430d94062a51ab90...    Economy   \n",
       "162  e558e08d8462e014b1e55f2e08f8a16f9f4d891b74c031...    Economy   \n",
       "163  e9cdffafbe7284b1a428ec912e065ba17127264fa1737b...    Economy   \n",
       "164  eea2c24632f92505ff2ca5943b32cbbecc275108b6d161...    Economy   \n",
       "\n",
       "                                                  text  \n",
       "0    cosmic countdown begun director james gunn ’ `...  \n",
       "1    planetary society taking stand nasa 's stalled...  \n",
       "2    may helpful receive news updates notifications...  \n",
       "3    spacex falcon 9 rocket used first stage launch...  \n",
       "4    son 's 40-year-old sketch astronaut dad 's mis...  \n",
       "..                                                 ...  \n",
       "160  amazon-owned audible started putting ads audio...  \n",
       "161  tuesday 's budget included new money create na...  \n",
       "162  raymond james says collected responses 48 cana...  \n",
       "163  surge stock could driven idea indictment bad n...  \n",
       "164  10-yr bondnasdaqvolatilityftsenikkei 225cad/eu...  \n",
       "\n",
       "[165 rows x 3 columns]"
      ]
     },
     "execution_count": 5,
     "metadata": {},
     "output_type": "execute_result"
    }
   ],
   "source": [
    "def create_dataset(topics):\n",
    "    data = {'hash':[],'topic': [], 'text': []}\n",
    "    for topic in topics:\n",
    "        for file in os.listdir(f\"Documents/{topic}\"):\n",
    "            with open(f\"Documents/{topic}/{file}\", \"r\", encoding=\"utf-8\") as f:\n",
    "                text = f.read()\n",
    "                data['hash'].append(file)\n",
    "                data['topic'].append(topic)\n",
    "                data['text'].append(text)\n",
    "    return pd.DataFrame(data)\n",
    "\n",
    "data = create_dataset(TOPICS)\n",
    "data"
   ]
  },
  {
   "cell_type": "code",
   "execution_count": 6,
   "metadata": {},
   "outputs": [
    {
     "data": {
      "text/plain": [
       "83     disclaimerhealthline media inc digital publish...\n",
       "24     looking versatile mobile camera setup want kee...\n",
       "151    11 30 et 15 30 gmt new york traded west texas ...\n",
       "86     us journey health wellness right feel affects ...\n",
       "19     dusk first night march spectacular action sout...\n",
       "                             ...                        \n",
       "9      falcon 9 s first stage making fourth flight li...\n",
       "103    crohn disease affects gi tract leading symptom...\n",
       "67     melatonin hormone body produces naturally sign...\n",
       "117    bill ackman warns pausing ai development help ...\n",
       "47     nasa astronaut collins retired colonel u s air...\n",
       "Name: text, Length: 132, dtype: object"
      ]
     },
     "execution_count": 6,
     "metadata": {},
     "output_type": "execute_result"
    }
   ],
   "source": [
    "def preprocess(data,topics_map):\n",
    "    tokenizer = RegexpTokenizer(r'\\w+')\n",
    "    data['text'] = data['text'].apply(lambda x: tokenizer.tokenize(x.lower()))\n",
    "    data['text'] = data['text'].apply(lambda x: ' '.join(x))\n",
    "    data['label'] = data['topic'].map(topics_map)\n",
    "    X_train, X_test, y_train, y_test = train_test_split(data['text'], data['label'], test_size=0.2, random_state=0)\n",
    "    return X_train, X_test, y_train, y_test\n",
    "X_train, X_test, y_train, y_test = preprocess(data,TOPICS_MAP)\n",
    "X_train"
   ]
  },
  {
   "cell_type": "code",
   "execution_count": 7,
   "metadata": {},
   "outputs": [
    {
     "data": {
      "text/plain": [
       "<132x15525 sparse matrix of type '<class 'numpy.float64'>'\n",
       "\twith 56941 stored elements in Compressed Sparse Row format>"
      ]
     },
     "execution_count": 7,
     "metadata": {},
     "output_type": "execute_result"
    }
   ],
   "source": [
    "def create_tf_idf(X_train,X_test):\n",
    "    vectorizer = TfidfVectorizer()\n",
    "    X_train_tfidf = vectorizer.fit_transform(X_train)\n",
    "    X_test_tfidf = vectorizer.transform(X_test)\n",
    "    return X_train_tfidf, X_test_tfidf\n",
    "X_train_tfidf, X_test_tfidf = create_tf_idf(X_train,X_test)\n",
    "X_train_tfidf"
   ]
  },
  {
   "cell_type": "code",
   "execution_count": 8,
   "metadata": {},
   "outputs": [],
   "source": [
    "from sklearn.svm import SVC\n",
    "from sklearn.neighbors import KNeighborsClassifier\n",
    "from sklearn.naive_bayes import GaussianNB\n",
    "from sklearn.tree import DecisionTreeClassifier\n",
    "from sklearn.linear_model import LogisticRegression\n",
    "from sklearn.metrics import make_scorer, accuracy_score, precision_score, recall_score, f1_score\n",
    "\n",
    "def cross_validate_and_train(model,X_train_tfidf,y_train):\n",
    "    scoring = {'accuracy': make_scorer(accuracy_score),\n",
    "           'precision': make_scorer(precision_score,average='macro'),\n",
    "           'recall': make_scorer(recall_score, average='macro'),\n",
    "           'f1_score': make_scorer(f1_score, average='macro')}\n",
    "    K_folds = 5\n",
    "    cv_results = cross_validate(model, X_train_tfidf, y_train, cv=K_folds, scoring=scoring, return_estimator=True)\n",
    "    for i in range(K_folds):\n",
    "        print(f\"Fold: {i+1}\")\n",
    "        print(f\"Accuracy: {cv_results['test_accuracy'][i]}\")\n",
    "        print(f\"Precision: {cv_results['test_precision'][i]}\")\n",
    "        print(f\"Recall: {cv_results['test_recall'][i]}\")\n",
    "        print(f\"F1 Score: {cv_results['test_f1_score'][i]}\")\n",
    "        print(\"\\n\")\n",
    "    print(\"Mean Metrics\")\n",
    "    print(f\"Mean Accuracy: {np.mean(cv_results['test_accuracy'])}\")\n",
    "    print(f\"Mean Precision: {np.mean(cv_results['test_precision'])}\")\n",
    "    print(f\"Mean Recall: {np.mean(cv_results['test_recall'])}\")\n",
    "    print(f\"Mean F1 Score: {np.mean(cv_results['test_f1_score'])}\")\n",
    "\n",
    "    mean_scores = {metric: np.mean(cv_results[f'test_{metric}']) for metric in scoring.keys()}\n",
    "    best_metric = max(mean_scores, key=mean_scores.get)\n",
    "    best_estimator_index= np.argmax(cv_results['test_'+best_metric])\n",
    "    best_estimator = cv_results['estimator'][best_estimator_index]\n",
    "    print(f\"Best Estimator: {best_estimator_index}\")\n",
    "    return best_estimator"
   ]
  },
  {
   "cell_type": "code",
   "execution_count": 9,
   "metadata": {},
   "outputs": [],
   "source": [
    "from sklearn.metrics import confusion_matrix, classification_report,ConfusionMatrixDisplay, RocCurveDisplay\n",
    "def test_model(model,X_test_tfidf,y_test, plot=False):\n",
    "    print(\"Test Metrics\")\n",
    "    y_pred = model.predict(X_test_tfidf)\n",
    "    print(classification_report(y_test, y_pred))\n",
    "    report = classification_report(y_test, y_pred, output_dict=True)\n",
    "    if plot:\n",
    "        cm = confusion_matrix(y_test, y_pred)\n",
    "        ConfusionMatrixDisplay(confusion_matrix=cm, display_labels=model.classes_).plot()\n",
    "        plt.show()\n",
    "    return report"
   ]
  },
  {
   "cell_type": "code",
   "execution_count": 10,
   "metadata": {},
   "outputs": [
    {
     "name": "stdout",
     "output_type": "stream",
     "text": [
      "Model: SVC\n",
      "Fold: 1\n",
      "Accuracy: 1.0\n",
      "Precision: 1.0\n",
      "Recall: 1.0\n",
      "F1 Score: 1.0\n",
      "\n",
      "\n",
      "Fold: 2\n",
      "Accuracy: 0.9629629629629629\n",
      "Precision: 0.9666666666666667\n",
      "Recall: 0.9629629629629629\n",
      "F1 Score: 0.9628482972136223\n",
      "\n",
      "\n",
      "Fold: 3\n",
      "Accuracy: 0.9230769230769231\n",
      "Precision: 0.9393939393939394\n",
      "Recall: 0.9212962962962963\n",
      "F1 Score: 0.9248366013071895\n",
      "\n",
      "\n",
      "Fold: 4\n",
      "Accuracy: 0.9615384615384616\n",
      "Precision: 0.9666666666666667\n",
      "Recall: 0.9583333333333334\n",
      "F1 Score: 0.960233918128655\n",
      "\n",
      "\n",
      "Fold: 5\n",
      "Accuracy: 0.9615384615384616\n",
      "Precision: 0.9666666666666667\n",
      "Recall: 0.9629629629629629\n",
      "F1 Score: 0.9628482972136223\n",
      "\n",
      "\n",
      "Mean Metrics\n",
      "Mean Accuracy: 0.9618233618233619\n",
      "Mean Precision: 0.967878787878788\n",
      "Mean Recall: 0.961111111111111\n",
      "Mean F1 Score: 0.9621534227726178\n",
      "Best Estimator: 0\n",
      "Test Metrics\n",
      "              precision    recall  f1-score   support\n",
      "\n",
      "           0       1.00      1.00      1.00        10\n",
      "           1       0.85      1.00      0.92        11\n",
      "           2       1.00      0.83      0.91        12\n",
      "\n",
      "    accuracy                           0.94        33\n",
      "   macro avg       0.95      0.94      0.94        33\n",
      "weighted avg       0.95      0.94      0.94        33\n",
      "\n"
     ]
    },
    {
     "data": {
      "image/png": "[encoded data removed]",
      "text/plain": [
       "<Figure size 432x288 with 2 Axes>"
      ]
     },
     "metadata": {
      "needs_background": "light"
     },
     "output_type": "display_data"
    },
    {
     "name": "stdout",
     "output_type": "stream",
     "text": [
      "\n",
      "\n",
      "Model: KNeighborsClassifier\n",
      "Fold: 1\n",
      "Accuracy: 1.0\n",
      "Precision: 1.0\n",
      "Recall: 1.0\n",
      "F1 Score: 1.0\n",
      "\n",
      "\n",
      "Fold: 2\n",
      "Accuracy: 1.0\n",
      "Precision: 1.0\n",
      "Recall: 1.0\n",
      "F1 Score: 1.0\n",
      "\n",
      "\n",
      "Fold: 3\n",
      "Accuracy: 1.0\n",
      "Precision: 1.0\n",
      "Recall: 1.0\n",
      "F1 Score: 1.0\n",
      "\n",
      "\n",
      "Fold: 4\n",
      "Accuracy: 1.0\n",
      "Precision: 1.0\n",
      "Recall: 1.0\n",
      "F1 Score: 1.0\n",
      "\n",
      "\n",
      "Fold: 5\n",
      "Accuracy: 0.9615384615384616\n",
      "Precision: 0.9666666666666667\n",
      "Recall: 0.9629629629629629\n",
      "F1 Score: 0.9628482972136223\n",
      "\n",
      "\n",
      "Mean Metrics\n",
      "Mean Accuracy: 0.9923076923076923\n",
      "Mean Precision: 0.9933333333333334\n",
      "Mean Recall: 0.9925925925925926\n",
      "Mean F1 Score: 0.9925696594427244\n",
      "Best Estimator: 0\n",
      "Test Metrics\n",
      "              precision    recall  f1-score   support\n",
      "\n",
      "           0       1.00      1.00      1.00        10\n",
      "           1       1.00      1.00      1.00        11\n",
      "           2       1.00      1.00      1.00        12\n",
      "\n",
      "    accuracy                           1.00        33\n",
      "   macro avg       1.00      1.00      1.00        33\n",
      "weighted avg       1.00      1.00      1.00        33\n",
      "\n"
     ]
    },
    {
     "data": {
      "image/png": "[encoded data removed]",
      "text/plain": [
       "<Figure size 432x288 with 2 Axes>"
      ]
     },
     "metadata": {
      "needs_background": "light"
     },
     "output_type": "display_data"
    },
    {
     "name": "stdout",
     "output_type": "stream",
     "text": [
      "\n",
      "\n",
      "Model: DecisionTreeClassifier\n",
      "Fold: 1\n",
      "Accuracy: 0.8148148148148148\n",
      "Precision: 0.825925925925926\n",
      "Recall: 0.8148148148148149\n",
      "F1 Score: 0.8185987845430569\n",
      "\n",
      "\n",
      "Fold: 2\n",
      "Accuracy: 0.9259259259259259\n",
      "Precision: 0.9259259259259259\n",
      "Recall: 0.9259259259259259\n",
      "F1 Score: 0.9259259259259259\n",
      "\n",
      "\n",
      "Fold: 3\n",
      "Accuracy: 0.8461538461538461\n",
      "Precision: 0.8653198653198654\n",
      "Recall: 0.8472222222222222\n",
      "F1 Score: 0.8411764705882354\n",
      "\n",
      "\n",
      "Fold: 4\n",
      "Accuracy: 0.9230769230769231\n",
      "Precision: 0.9212962962962963\n",
      "Recall: 0.9212962962962963\n",
      "F1 Score: 0.9212962962962963\n",
      "\n",
      "\n",
      "Fold: 5\n",
      "Accuracy: 0.8461538461538461\n",
      "Precision: 0.8468013468013469\n",
      "Recall: 0.8379629629629629\n",
      "F1 Score: 0.8343915343915344\n",
      "\n",
      "\n",
      "Mean Metrics\n",
      "Mean Accuracy: 0.8712250712250711\n",
      "Mean Precision: 0.8770538720538721\n",
      "Mean Recall: 0.8694444444444445\n",
      "Mean F1 Score: 0.8682778023490098\n",
      "Best Estimator: 1\n",
      "Test Metrics\n",
      "              precision    recall  f1-score   support\n",
      "\n",
      "           0       1.00      0.90      0.95        10\n",
      "           1       0.69      0.82      0.75        11\n",
      "           2       0.82      0.75      0.78        12\n",
      "\n",
      "    accuracy                           0.82        33\n",
      "   macro avg       0.84      0.82      0.83        33\n",
      "weighted avg       0.83      0.82      0.82        33\n",
      "\n"
     ]
    },
    {
     "data": {
      "image/png": "[encoded data removed]",
      "text/plain": [
       "<Figure size 432x288 with 2 Axes>"
      ]
     },
     "metadata": {
      "needs_background": "light"
     },
     "output_type": "display_data"
    },
    {
     "name": "stdout",
     "output_type": "stream",
     "text": [
      "\n",
      "\n",
      "Model: LogisticRegression\n",
      "Fold: 1\n",
      "Accuracy: 1.0\n",
      "Precision: 1.0\n",
      "Recall: 1.0\n",
      "F1 Score: 1.0\n",
      "\n",
      "\n",
      "Fold: 2\n",
      "Accuracy: 0.9629629629629629\n",
      "Precision: 0.9666666666666667\n",
      "Recall: 0.9629629629629629\n",
      "F1 Score: 0.9628482972136223\n",
      "\n",
      "\n",
      "Fold: 3\n",
      "Accuracy: 0.9615384615384616\n",
      "Precision: 0.9666666666666667\n",
      "Recall: 0.9629629629629629\n",
      "F1 Score: 0.9628482972136223\n",
      "\n",
      "\n",
      "Fold: 4\n",
      "Accuracy: 0.9615384615384616\n",
      "Precision: 0.9666666666666667\n",
      "Recall: 0.9583333333333334\n",
      "F1 Score: 0.960233918128655\n",
      "\n",
      "\n",
      "Fold: 5\n",
      "Accuracy: 0.9615384615384616\n",
      "Precision: 0.9666666666666667\n",
      "Recall: 0.9629629629629629\n",
      "F1 Score: 0.9628482972136223\n",
      "\n",
      "\n",
      "Mean Metrics\n",
      "Mean Accuracy: 0.9695156695156696\n",
      "Mean Precision: 0.9733333333333334\n",
      "Mean Recall: 0.9694444444444444\n",
      "Mean F1 Score: 0.9697557619539043\n",
      "Best Estimator: 0\n",
      "Test Metrics\n",
      "              precision    recall  f1-score   support\n",
      "\n",
      "           0       1.00      1.00      1.00        10\n",
      "           1       0.92      1.00      0.96        11\n",
      "           2       1.00      0.92      0.96        12\n",
      "\n",
      "    accuracy                           0.97        33\n",
      "   macro avg       0.97      0.97      0.97        33\n",
      "weighted avg       0.97      0.97      0.97        33\n",
      "\n"
     ]
    },
    {
     "data": {
      "image/png": "[encoded data removed]",
      "text/plain": [
       "<Figure size 432x288 with 2 Axes>"
      ]
     },
     "metadata": {
      "needs_background": "light"
     },
     "output_type": "display_data"
    },
    {
     "name": "stdout",
     "output_type": "stream",
     "text": [
      "\n",
      "\n"
     ]
    }
   ],
   "source": [
    "def train_and_test_models(X_train_tfidf,y_train,X_test_tfidf,y_test):\n",
    "    models = [SVC(),KNeighborsClassifier(),DecisionTreeClassifier(),LogisticRegression()]\n",
    "    reports = {}\n",
    "    for model in models:\n",
    "        print(f\"Model: {model.__class__.__name__}\")\n",
    "        best_estimator = cross_validate_and_train(model,X_train_tfidf,y_train)\n",
    "        report = test_model(best_estimator,X_test_tfidf,y_test,plot=True)\n",
    "        reports[model.__class__.__name__] = [best_estimator,report]\n",
    "        print(\"\\n\")\n",
    "    return reports\n",
    "reports = train_and_test_models(X_train_tfidf,y_train,X_test_tfidf,y_test)"
   ]
  },
  {
   "cell_type": "code",
   "execution_count": 11,
   "metadata": {},
   "outputs": [
    {
     "name": "stdout",
     "output_type": "stream",
     "text": [
      "Best Model: KNeighborsClassifier\n"
     ]
    }
   ],
   "source": [
    "def choose_best_model(reports):\n",
    "    #Choose best model based on highest accuracy, precision, recall and f1 score\n",
    "    best_model = None\n",
    "    best_score = 0\n",
    "    model_name = None\n",
    "    for model in reports:\n",
    "        report = reports[model][1]\n",
    "        score = report['accuracy'] + report['macro avg']['precision'] + report['macro avg']['recall'] + report['macro avg']['f1-score']\n",
    "        if score > best_score:\n",
    "            best_score = score\n",
    "            best_model = reports[model][0]\n",
    "            model_name = model\n",
    "    return model_name, best_model\n",
    "model_name, best_model = choose_best_model(reports)\n",
    "print(f\"Best Model: {model_name}\")"
   ]
  },
  {
   "cell_type": "code",
   "execution_count": 12,
   "metadata": {},
   "outputs": [
    {
     "name": "stdout",
     "output_type": "stream",
     "text": [
      "[1. 0. 0.]\n",
      "[1. 0. 0.]\n",
      "[0. 1. 0.]\n",
      "[1. 0. 0.]\n",
      "[0. 1. 0.]\n",
      "[0.2 0.8 0. ]\n",
      "[1. 0. 0.]\n",
      "[0. 1. 0.]\n",
      "[0. 0. 1.]\n",
      "[0. 0. 1.]\n",
      "[0. 0. 1.]\n",
      "[0.2 0.6 0.2]\n",
      "[0. 1. 0.]\n",
      "[0. 0. 1.]\n",
      "[0. 0. 1.]\n",
      "[0. 0. 1.]\n",
      "[0. 0. 1.]\n",
      "[0. 0. 1.]\n",
      "[0.  0.8 0.2]\n",
      "[0. 0. 1.]\n",
      "[0. 0. 1.]\n",
      "[1. 0. 0.]\n",
      "[0. 0. 1.]\n",
      "[0.2 0.  0.8]\n",
      "[1. 0. 0.]\n",
      "[1. 0. 0.]\n",
      "[1. 0. 0.]\n",
      "[1. 0. 0.]\n",
      "[0. 1. 0.]\n",
      "[0. 1. 0.]\n",
      "[1. 0. 0.]\n",
      "[0. 1. 0.]\n",
      "[0. 1. 0.]\n"
     ]
    }
   ],
   "source": [
    "probs = best_model.predict_proba(X_test_tfidf)\n",
    "for prob in probs:\n",
    "    print(prob)"
   ]
  },
  {
   "cell_type": "code",
   "execution_count": 13,
   "metadata": {},
   "outputs": [],
   "source": [
    "# def save_model(model):\n",
    "#     joblib.dump(model, \"classifier.joblib\")"
   ]
  }
 ],
 "metadata": {
  "kernelspec": {
   "display_name": "Python 3",
   "language": "python",
   "name": "python3"
  },
  "language_info": {
   "codemirror_mode": {
    "name": "ipython",
    "version": 3
   },
   "file_extension": ".py",
   "mimetype": "text/x-python",
   "name": "python",
   "nbconvert_exporter": "python",
   "pygments_lexer": "ipython3",
   "version": "3.9.1"
  },
  "orig_nbformat": 4
 },
 "nbformat": 4,
 "nbformat_minor": 2
}
