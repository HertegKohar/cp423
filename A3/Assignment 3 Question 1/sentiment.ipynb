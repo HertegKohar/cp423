{
 "cells": [
  {
   "cell_type": "code",
   "execution_count": 57,
   "metadata": {},
   "outputs": [],
   "source": [
    "import pandas as pd\n",
    "import matplotlib.pyplot as plt\n",
    "from nltk.tokenize import RegexpTokenizer\n",
    "from nltk.corpus import stopwords\n",
    "import numpy as np\n",
    "import os\n",
    "from sklearn.model_selection import train_test_split, cross_validate\n",
    "from sklearn.feature_extraction.text import TfidfVectorizer"
   ]
  },
  {
   "cell_type": "code",
   "execution_count": 43,
   "metadata": {},
   "outputs": [
    {
     "data": {
      "text/html": [
       "<div>\n",
       "<style scoped>\n",
       "    .dataframe tbody tr th:only-of-type {\n",
       "        vertical-align: middle;\n",
       "    }\n",
       "\n",
       "    .dataframe tbody tr th {\n",
       "        vertical-align: top;\n",
       "    }\n",
       "\n",
       "    .dataframe thead th {\n",
       "        text-align: right;\n",
       "    }\n",
       "</style>\n",
       "<table border=\"1\" class=\"dataframe\">\n",
       "  <thead>\n",
       "    <tr style=\"text-align: right;\">\n",
       "      <th></th>\n",
       "      <th>sentence</th>\n",
       "      <th>label</th>\n",
       "    </tr>\n",
       "  </thead>\n",
       "  <tbody>\n",
       "    <tr>\n",
       "      <th>0</th>\n",
       "      <td>A very, very, very slow-moving, aimless movie ...</td>\n",
       "      <td>0</td>\n",
       "    </tr>\n",
       "    <tr>\n",
       "      <th>1</th>\n",
       "      <td>Not sure who was more lost - the flat characte...</td>\n",
       "      <td>0</td>\n",
       "    </tr>\n",
       "    <tr>\n",
       "      <th>2</th>\n",
       "      <td>Attempting artiness with black &amp; white and cle...</td>\n",
       "      <td>0</td>\n",
       "    </tr>\n",
       "    <tr>\n",
       "      <th>3</th>\n",
       "      <td>Very little music or anything to speak of.</td>\n",
       "      <td>0</td>\n",
       "    </tr>\n",
       "    <tr>\n",
       "      <th>4</th>\n",
       "      <td>The best scene in the movie was when Gerardo i...</td>\n",
       "      <td>1</td>\n",
       "    </tr>\n",
       "    <tr>\n",
       "      <th>...</th>\n",
       "      <td>...</td>\n",
       "      <td>...</td>\n",
       "    </tr>\n",
       "    <tr>\n",
       "      <th>995</th>\n",
       "      <td>I think food should have flavor and texture an...</td>\n",
       "      <td>0</td>\n",
       "    </tr>\n",
       "    <tr>\n",
       "      <th>996</th>\n",
       "      <td>Appetite instantly gone.</td>\n",
       "      <td>0</td>\n",
       "    </tr>\n",
       "    <tr>\n",
       "      <th>997</th>\n",
       "      <td>Overall I was not impressed and would not go b...</td>\n",
       "      <td>0</td>\n",
       "    </tr>\n",
       "    <tr>\n",
       "      <th>998</th>\n",
       "      <td>The whole experience was underwhelming, and I ...</td>\n",
       "      <td>0</td>\n",
       "    </tr>\n",
       "    <tr>\n",
       "      <th>999</th>\n",
       "      <td>Then, as if I hadn't wasted enough of my life ...</td>\n",
       "      <td>0</td>\n",
       "    </tr>\n",
       "  </tbody>\n",
       "</table>\n",
       "<p>2748 rows × 2 columns</p>\n",
       "</div>"
      ],
      "text/plain": [
       "                                              sentence  label\n",
       "0    A very, very, very slow-moving, aimless movie ...      0\n",
       "1    Not sure who was more lost - the flat characte...      0\n",
       "2    Attempting artiness with black & white and cle...      0\n",
       "3         Very little music or anything to speak of.        0\n",
       "4    The best scene in the movie was when Gerardo i...      1\n",
       "..                                                 ...    ...\n",
       "995  I think food should have flavor and texture an...      0\n",
       "996                           Appetite instantly gone.      0\n",
       "997  Overall I was not impressed and would not go b...      0\n",
       "998  The whole experience was underwhelming, and I ...      0\n",
       "999  Then, as if I hadn't wasted enough of my life ...      0\n",
       "\n",
       "[2748 rows x 2 columns]"
      ]
     },
     "execution_count": 43,
     "metadata": {},
     "output_type": "execute_result"
    }
   ],
   "source": [
    "def concatenate_data(imdb,amazon,yelp):\n",
    "    data = []\n",
    "    columns = ['sentence','label']\n",
    "    path = 'sentiment labelled sentences'\n",
    "    if imdb:\n",
    "        data.append(pd.read_csv(os.path.join(path,'imdb_labelled.txt'), sep='\\t', names=columns))\n",
    "    if amazon:\n",
    "        data.append(pd.read_csv(os.path.join(path,'amazon_cells_labelled.txt'), sep='\\t', names = columns))\n",
    "    if yelp:\n",
    "        data.append(pd.read_csv(os.path.join(path,'yelp_labelled.txt'), sep='\\t', names = columns))\n",
    "    return pd.concat(data)\n",
    "data = concatenate_data(True,True,True)\n",
    "data"
   ]
  },
  {
   "cell_type": "code",
   "execution_count": 47,
   "metadata": {},
   "outputs": [
    {
     "data": {
      "text/plain": [
       "824                                        awful service\n",
       "526                     seriously worth wasting kid time\n",
       "761    around years carries highest quality anti glar...\n",
       "144    telephone repair man really funny reactions nu...\n",
       "735                 probably never coming back recommend\n",
       "                             ...                        \n",
       "15                 highly recommend one blue tooth phone\n",
       "87                            construction headsets poor\n",
       "905        nearly good looking amazon picture makes look\n",
       "859                                   worst food service\n",
       "984                                 ha long bay bit flop\n",
       "Name: sentence, Length: 2198, dtype: object"
      ]
     },
     "execution_count": 47,
     "metadata": {},
     "output_type": "execute_result"
    }
   ],
   "source": [
    "def preprocess(text_data):\n",
    "    tokenizer = RegexpTokenizer(r'\\w+')\n",
    "    stop_words = set(stopwords.words('english'))\n",
    "    text_data['sentence'] = text_data['sentence'].apply(lambda x: tokenizer.tokenize(x.lower()))\n",
    "    text_data['sentence'] = text_data['sentence'].apply(lambda x: [word for word in x if word not in stop_words])\n",
    "    text_data['sentence'] = text_data['sentence'].apply(lambda x: ' '.join(x))\n",
    "    X_train, X_test, y_train, y_test = train_test_split(text_data['sentence'], text_data['label'], test_size=0.2, random_state=0)\n",
    "    return X_train,X_test,y_train,y_test\n",
    "X_train,X_test,y_train,y_test = preprocess(data)\n",
    "X_train"
   ]
  },
  {
   "cell_type": "code",
   "execution_count": 51,
   "metadata": {},
   "outputs": [
    {
     "data": {
      "text/plain": [
       "<2198x4347 sparse matrix of type '<class 'numpy.float64'>'\n",
       "\twith 13891 stored elements in Compressed Sparse Row format>"
      ]
     },
     "execution_count": 51,
     "metadata": {},
     "output_type": "execute_result"
    }
   ],
   "source": [
    "def create_bag_of_words(X_train,X_test):\n",
    "    vectorizer = TfidfVectorizer()\n",
    "    X_train_tfidf = vectorizer.fit_transform(X_train)\n",
    "    X_test_tfidf = vectorizer.transform(X_test)\n",
    "    return X_train_tfidf,X_test_tfidf\n",
    "X_train_tfidf,X_test_tfidf = create_bag_of_words(X_train,X_test)\n",
    "X_train_tfidf"
   ]
  },
  {
   "cell_type": "code",
   "execution_count": 61,
   "metadata": {},
   "outputs": [
    {
     "name": "stdout",
     "output_type": "stream",
     "text": [
      "Fold: 1\n",
      "Accuracy: 0.8045454545454546\n",
      "Precision: 0.8333333333333334\n",
      "Recall: 0.7657657657657657\n",
      "F1 Score: 0.7981220657276996\n",
      "\n",
      "\n",
      "Fold: 2\n",
      "Accuracy: 0.7818181818181819\n",
      "Precision: 0.7837837837837838\n",
      "Recall: 0.7837837837837838\n",
      "F1 Score: 0.7837837837837838\n",
      "\n",
      "\n",
      "Fold: 3\n",
      "Accuracy: 0.8204545454545454\n",
      "Precision: 0.8294930875576036\n",
      "Recall: 0.8108108108108109\n",
      "F1 Score: 0.8200455580865603\n",
      "\n",
      "\n",
      "Fold: 4\n",
      "Accuracy: 0.7835990888382688\n",
      "Precision: 0.8118811881188119\n",
      "Recall: 0.7420814479638009\n",
      "F1 Score: 0.7754137115839245\n",
      "\n",
      "\n",
      "Fold: 5\n",
      "Accuracy: 0.8109339407744874\n",
      "Precision: 0.8165137614678899\n",
      "Recall: 0.8054298642533937\n",
      "F1 Score: 0.8109339407744874\n",
      "\n",
      "\n",
      "Mean Metrics\n",
      "Mean Accuracy: 0.8002702422861876\n",
      "Mean Precision: 0.8150010308522846\n",
      "Mean Recall: 0.781574334515511\n",
      "Mean F1 Score: 0.7976598119912912\n",
      "Best Estimator: 0\n"
     ]
    }
   ],
   "source": [
    "from sklearn.svm import SVC\n",
    "from sklearn.metrics import make_scorer, accuracy_score, precision_score, recall_score, f1_score\n",
    "\n",
    "def cross_validate_and_train(model,X_train_tfidf,y_train):\n",
    "    scoring = {'accuracy': make_scorer(accuracy_score),\n",
    "           'precision': make_scorer(precision_score),\n",
    "           'recall': make_scorer(recall_score),\n",
    "           'f1_score': make_scorer(f1_score)}\n",
    "    K_folds = 5\n",
    "    cv_results = cross_validate(model, X_train_tfidf, y_train, cv=K_folds, scoring=scoring, return_estimator=True)\n",
    "    for i in range(K_folds):\n",
    "        print(f\"Fold: {i+1}\")\n",
    "        print(f\"Accuracy: {cv_results['test_accuracy'][i]}\")\n",
    "        print(f\"Precision: {cv_results['test_precision'][i]}\")\n",
    "        print(f\"Recall: {cv_results['test_recall'][i]}\")\n",
    "        print(f\"F1 Score: {cv_results['test_f1_score'][i]}\")\n",
    "        print(\"\\n\")\n",
    "    print(\"Mean Metrics\")\n",
    "    print(f\"Mean Accuracy: {np.mean(cv_results['test_accuracy'])}\")\n",
    "    print(f\"Mean Precision: {np.mean(cv_results['test_precision'])}\")\n",
    "    print(f\"Mean Recall: {np.mean(cv_results['test_recall'])}\")\n",
    "    print(f\"Mean F1 Score: {np.mean(cv_results['test_f1_score'])}\")\n",
    "\n",
    "    mean_scores = {metric: np.mean(cv_results[f'test_{metric}']) for metric in scoring.keys()}\n",
    "    best_metric = max(mean_scores, key=mean_scores.get)\n",
    "    best_estimator_index= np.argmax(cv_results['test_'+best_metric])\n",
    "    best_estimator = cv_results['estimator'][best_estimator_index]\n",
    "    print(f\"Best Estimator: {best_estimator_index}\")\n",
    "    return best_estimator\n",
    "\n",
    "clf = SVC(kernel='linear')\n",
    "best_estimator = cross_validate_and_train(clf,X_train_tfidf,y_train)"
   ]
  },
  {
   "cell_type": "code",
   "execution_count": 65,
   "metadata": {},
   "outputs": [
    {
     "name": "stdout",
     "output_type": "stream",
     "text": [
      "              precision    recall  f1-score   support\n",
      "\n",
      "           0       0.75      0.72      0.74       272\n",
      "           1       0.74      0.77      0.75       278\n",
      "\n",
      "    accuracy                           0.75       550\n",
      "   macro avg       0.75      0.75      0.75       550\n",
      "weighted avg       0.75      0.75      0.75       550\n",
      "\n"
     ]
    },
    {
     "data": {
      "image/png": "[encoded data removed]",
      "text/plain": [
       "<Figure size 432x288 with 2 Axes>"
      ]
     },
     "metadata": {
      "needs_background": "light"
     },
     "output_type": "display_data"
    },
    {
     "data": {
      "image/png": "[encoded data removed]",
      "text/plain": [
       "<Figure size 432x288 with 1 Axes>"
      ]
     },
     "metadata": {
      "needs_background": "light"
     },
     "output_type": "display_data"
    }
   ],
   "source": [
    "from sklearn.metrics import confusion_matrix, classification_report,ConfusionMatrixDisplay, roc_curve, roc_auc_score, RocCurveDisplay\n",
    "def test_model(model,X_test_tfidf,y_test):\n",
    "    y_pred = model.predict(X_test_tfidf)\n",
    "    print(classification_report(y_test, y_pred))\n",
    "    cm = confusion_matrix(y_test, y_pred)\n",
    "    ConfusionMatrixDisplay(confusion_matrix=cm, display_labels=model.classes_).plot()\n",
    "    RocCurveDisplay.from_predictions(y_test, y_pred)\n",
    "    plt.show()\n",
    "test_model(best_estimator,X_test_tfidf,y_test)"
   ]
  }
 ],
 "metadata": {
  "kernelspec": {
   "display_name": "Python 3",
   "language": "python",
   "name": "python3"
  },
  "language_info": {
   "codemirror_mode": {
    "name": "ipython",
    "version": 3
   },
   "file_extension": ".py",
   "mimetype": "text/x-python",
   "name": "python",
   "nbconvert_exporter": "python",
   "pygments_lexer": "ipython3",
   "version": "3.9.1"
  },
  "orig_nbformat": 4
 },
 "nbformat": 4,
 "nbformat_minor": 2
}
