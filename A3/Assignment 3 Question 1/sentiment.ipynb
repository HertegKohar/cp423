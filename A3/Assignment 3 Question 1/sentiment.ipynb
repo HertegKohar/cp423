{
 "cells": [
  {
   "cell_type": "code",
   "execution_count": 2,
   "metadata": {},
   "outputs": [],
   "source": [
    "import pandas as pd\n",
    "import matplotlib.pyplot as plt\n",
    "from nltk.tokenize import RegexpTokenizer\n",
    "from nltk.corpus import stopwords\n",
    "import numpy as np\n",
    "import os\n",
    "from sklearn.model_selection import train_test_split, cross_validate\n",
    "from sklearn.feature_extraction.text import TfidfVectorizer"
   ]
  },
  {
   "cell_type": "code",
   "execution_count": 3,
   "metadata": {},
   "outputs": [
    {
     "data": {
      "text/html": [
       "<div>\n",
       "<style scoped>\n",
       "    .dataframe tbody tr th:only-of-type {\n",
       "        vertical-align: middle;\n",
       "    }\n",
       "\n",
       "    .dataframe tbody tr th {\n",
       "        vertical-align: top;\n",
       "    }\n",
       "\n",
       "    .dataframe thead th {\n",
       "        text-align: right;\n",
       "    }\n",
       "</style>\n",
       "<table border=\"1\" class=\"dataframe\">\n",
       "  <thead>\n",
       "    <tr style=\"text-align: right;\">\n",
       "      <th></th>\n",
       "      <th>sentence</th>\n",
       "      <th>label</th>\n",
       "    </tr>\n",
       "  </thead>\n",
       "  <tbody>\n",
       "    <tr>\n",
       "      <th>0</th>\n",
       "      <td>A very, very, very slow-moving, aimless movie ...</td>\n",
       "      <td>0</td>\n",
       "    </tr>\n",
       "    <tr>\n",
       "      <th>1</th>\n",
       "      <td>Not sure who was more lost - the flat characte...</td>\n",
       "      <td>0</td>\n",
       "    </tr>\n",
       "    <tr>\n",
       "      <th>2</th>\n",
       "      <td>Attempting artiness with black &amp; white and cle...</td>\n",
       "      <td>0</td>\n",
       "    </tr>\n",
       "    <tr>\n",
       "      <th>3</th>\n",
       "      <td>Very little music or anything to speak of.</td>\n",
       "      <td>0</td>\n",
       "    </tr>\n",
       "    <tr>\n",
       "      <th>4</th>\n",
       "      <td>The best scene in the movie was when Gerardo i...</td>\n",
       "      <td>1</td>\n",
       "    </tr>\n",
       "    <tr>\n",
       "      <th>...</th>\n",
       "      <td>...</td>\n",
       "      <td>...</td>\n",
       "    </tr>\n",
       "    <tr>\n",
       "      <th>995</th>\n",
       "      <td>I think food should have flavor and texture an...</td>\n",
       "      <td>0</td>\n",
       "    </tr>\n",
       "    <tr>\n",
       "      <th>996</th>\n",
       "      <td>Appetite instantly gone.</td>\n",
       "      <td>0</td>\n",
       "    </tr>\n",
       "    <tr>\n",
       "      <th>997</th>\n",
       "      <td>Overall I was not impressed and would not go b...</td>\n",
       "      <td>0</td>\n",
       "    </tr>\n",
       "    <tr>\n",
       "      <th>998</th>\n",
       "      <td>The whole experience was underwhelming, and I ...</td>\n",
       "      <td>0</td>\n",
       "    </tr>\n",
       "    <tr>\n",
       "      <th>999</th>\n",
       "      <td>Then, as if I hadn't wasted enough of my life ...</td>\n",
       "      <td>0</td>\n",
       "    </tr>\n",
       "  </tbody>\n",
       "</table>\n",
       "<p>2748 rows × 2 columns</p>\n",
       "</div>"
      ],
      "text/plain": [
       "                                              sentence  label\n",
       "0    A very, very, very slow-moving, aimless movie ...      0\n",
       "1    Not sure who was more lost - the flat characte...      0\n",
       "2    Attempting artiness with black & white and cle...      0\n",
       "3         Very little music or anything to speak of.        0\n",
       "4    The best scene in the movie was when Gerardo i...      1\n",
       "..                                                 ...    ...\n",
       "995  I think food should have flavor and texture an...      0\n",
       "996                           Appetite instantly gone.      0\n",
       "997  Overall I was not impressed and would not go b...      0\n",
       "998  The whole experience was underwhelming, and I ...      0\n",
       "999  Then, as if I hadn't wasted enough of my life ...      0\n",
       "\n",
       "[2748 rows x 2 columns]"
      ]
     },
     "execution_count": 3,
     "metadata": {},
     "output_type": "execute_result"
    }
   ],
   "source": [
    "def concatenate_data(imdb,amazon,yelp):\n",
    "    data = []\n",
    "    columns = ['sentence','label']\n",
    "    path = 'sentiment labelled sentences'\n",
    "    if imdb:\n",
    "        data.append(pd.read_csv(os.path.join(path,'imdb_labelled.txt'), sep='\\t', names=columns))\n",
    "    if amazon:\n",
    "        data.append(pd.read_csv(os.path.join(path,'amazon_cells_labelled.txt'), sep='\\t', names = columns))\n",
    "    if yelp:\n",
    "        data.append(pd.read_csv(os.path.join(path,'yelp_labelled.txt'), sep='\\t', names = columns))\n",
    "    return pd.concat(data)\n",
    "data = concatenate_data(True,True,True)\n",
    "data"
   ]
  },
  {
   "cell_type": "code",
   "execution_count": 4,
   "metadata": {},
   "outputs": [
    {
     "data": {
      "text/plain": [
       "824                                        awful service\n",
       "526                     seriously worth wasting kid time\n",
       "761    around years carries highest quality anti glar...\n",
       "144    telephone repair man really funny reactions nu...\n",
       "735                 probably never coming back recommend\n",
       "                             ...                        \n",
       "15                 highly recommend one blue tooth phone\n",
       "87                            construction headsets poor\n",
       "905        nearly good looking amazon picture makes look\n",
       "859                                   worst food service\n",
       "984                                 ha long bay bit flop\n",
       "Name: sentence, Length: 2198, dtype: object"
      ]
     },
     "execution_count": 4,
     "metadata": {},
     "output_type": "execute_result"
    }
   ],
   "source": [
    "def preprocess(text_data):\n",
    "    tokenizer = RegexpTokenizer(r'\\w+')\n",
    "    stop_words = set(stopwords.words('english'))\n",
    "    text_data['sentence'] = text_data['sentence'].apply(lambda x: tokenizer.tokenize(x.lower()))\n",
    "    text_data['sentence'] = text_data['sentence'].apply(lambda x: [word for word in x if word not in stop_words])\n",
    "    text_data['sentence'] = text_data['sentence'].apply(lambda x: ' '.join(x))\n",
    "    X_train, X_test, y_train, y_test = train_test_split(text_data['sentence'], text_data['label'], test_size=0.2, random_state=0)\n",
    "    return X_train,X_test,y_train,y_test\n",
    "X_train,X_test,y_train,y_test = preprocess(data)\n",
    "X_train"
   ]
  },
  {
   "cell_type": "code",
   "execution_count": 5,
   "metadata": {},
   "outputs": [
    {
     "data": {
      "text/plain": [
       "<2198x4347 sparse matrix of type '<class 'numpy.float64'>'\n",
       "\twith 13891 stored elements in Compressed Sparse Row format>"
      ]
     },
     "execution_count": 5,
     "metadata": {},
     "output_type": "execute_result"
    }
   ],
   "source": [
    "def create_bag_of_words(X_train,X_test):\n",
    "    vectorizer = TfidfVectorizer()\n",
    "    X_train_tfidf = vectorizer.fit_transform(X_train)\n",
    "    X_test_tfidf = vectorizer.transform(X_test)\n",
    "    return X_train_tfidf,X_test_tfidf\n",
    "X_train_tfidf,X_test_tfidf = create_bag_of_words(X_train,X_test)\n",
    "X_train_tfidf"
   ]
  },
  {
   "cell_type": "code",
   "execution_count": 6,
   "metadata": {},
   "outputs": [],
   "source": [
    "from sklearn.svm import SVC\n",
    "from sklearn.neighbors import KNeighborsClassifier\n",
    "from sklearn.naive_bayes import GaussianNB\n",
    "from sklearn.tree import DecisionTreeClassifier\n",
    "from sklearn.metrics import make_scorer, accuracy_score, precision_score, recall_score, f1_score\n",
    "\n",
    "def cross_validate_and_train(model,X_train_tfidf,y_train):\n",
    "    scoring = {'accuracy': make_scorer(accuracy_score),\n",
    "           'precision': make_scorer(precision_score),\n",
    "           'recall': make_scorer(recall_score),\n",
    "           'f1_score': make_scorer(f1_score)}\n",
    "    K_folds = 5\n",
    "    cv_results = cross_validate(model, X_train_tfidf, y_train, cv=K_folds, scoring=scoring, return_estimator=True)\n",
    "    for i in range(K_folds):\n",
    "        print(f\"Fold: {i+1}\")\n",
    "        print(f\"Accuracy: {cv_results['test_accuracy'][i]}\")\n",
    "        print(f\"Precision: {cv_results['test_precision'][i]}\")\n",
    "        print(f\"Recall: {cv_results['test_recall'][i]}\")\n",
    "        print(f\"F1 Score: {cv_results['test_f1_score'][i]}\")\n",
    "        print(\"\\n\")\n",
    "    print(\"Mean Metrics\")\n",
    "    print(f\"Mean Accuracy: {np.mean(cv_results['test_accuracy'])}\")\n",
    "    print(f\"Mean Precision: {np.mean(cv_results['test_precision'])}\")\n",
    "    print(f\"Mean Recall: {np.mean(cv_results['test_recall'])}\")\n",
    "    print(f\"Mean F1 Score: {np.mean(cv_results['test_f1_score'])}\")\n",
    "\n",
    "    mean_scores = {metric: np.mean(cv_results[f'test_{metric}']) for metric in scoring.keys()}\n",
    "    best_metric = max(mean_scores, key=mean_scores.get)\n",
    "    best_estimator_index= np.argmax(cv_results['test_'+best_metric])\n",
    "    best_estimator = cv_results['estimator'][best_estimator_index]\n",
    "    print(f\"Best Estimator: {best_estimator_index}\")\n",
    "    return best_estimator"
   ]
  },
  {
   "cell_type": "code",
   "execution_count": 7,
   "metadata": {},
   "outputs": [],
   "source": [
    "from sklearn.metrics import confusion_matrix, classification_report,ConfusionMatrixDisplay, RocCurveDisplay\n",
    "def test_model(model,X_test_tfidf,y_test):\n",
    "    print(\"Test Metrics\")\n",
    "    y_pred = model.predict(X_test_tfidf)\n",
    "    print(classification_report(y_test, y_pred))\n",
    "    cm = confusion_matrix(y_test, y_pred)\n",
    "    ConfusionMatrixDisplay(confusion_matrix=cm, display_labels=model.classes_).plot()\n",
    "    RocCurveDisplay.from_predictions(y_test, y_pred)\n",
    "    plt.show()"
   ]
  },
  {
   "cell_type": "code",
   "execution_count": 8,
   "metadata": {},
   "outputs": [
    {
     "name": "stdout",
     "output_type": "stream",
     "text": [
      "Fold: 1\n",
      "Accuracy: 0.8045454545454546\n",
      "Precision: 0.8333333333333334\n",
      "Recall: 0.7657657657657657\n",
      "F1 Score: 0.7981220657276996\n",
      "\n",
      "\n",
      "Fold: 2\n",
      "Accuracy: 0.7818181818181819\n",
      "Precision: 0.7837837837837838\n",
      "Recall: 0.7837837837837838\n",
      "F1 Score: 0.7837837837837838\n",
      "\n",
      "\n",
      "Fold: 3\n",
      "Accuracy: 0.8204545454545454\n",
      "Precision: 0.8294930875576036\n",
      "Recall: 0.8108108108108109\n",
      "F1 Score: 0.8200455580865603\n",
      "\n",
      "\n",
      "Fold: 4\n",
      "Accuracy: 0.7835990888382688\n",
      "Precision: 0.8118811881188119\n",
      "Recall: 0.7420814479638009\n",
      "F1 Score: 0.7754137115839245\n",
      "\n",
      "\n",
      "Fold: 5\n",
      "Accuracy: 0.8109339407744874\n",
      "Precision: 0.8165137614678899\n",
      "Recall: 0.8054298642533937\n",
      "F1 Score: 0.8109339407744874\n",
      "\n",
      "\n",
      "Mean Metrics\n",
      "Mean Accuracy: 0.8002702422861876\n",
      "Mean Precision: 0.8150010308522846\n",
      "Mean Recall: 0.781574334515511\n",
      "Mean F1 Score: 0.7976598119912912\n",
      "Best Estimator: 0\n",
      "Test Metrics\n",
      "              precision    recall  f1-score   support\n",
      "\n",
      "           0       0.75      0.72      0.74       272\n",
      "           1       0.74      0.77      0.75       278\n",
      "\n",
      "    accuracy                           0.75       550\n",
      "   macro avg       0.75      0.75      0.75       550\n",
      "weighted avg       0.75      0.75      0.75       550\n",
      "\n"
     ]
    },
    {
     "data": {
      "image/png": "[encoded data removed]",
      "text/plain": [
       "<Figure size 432x288 with 2 Axes>"
      ]
     },
     "metadata": {
      "needs_background": "light"
     },
     "output_type": "display_data"
    },
    {
     "data": {
      "image/png": "[encoded data removed]",
      "text/plain": [
       "<Figure size 432x288 with 1 Axes>"
      ]
     },
     "metadata": {
      "needs_background": "light"
     },
     "output_type": "display_data"
    }
   ],
   "source": [
    "clf = SVC(kernel='linear')\n",
    "best_estimator = cross_validate_and_train(clf,X_train_tfidf,y_train)\n",
    "test_model(best_estimator,X_test_tfidf,y_test)"
   ]
  },
  {
   "cell_type": "code",
   "execution_count": 9,
   "metadata": {},
   "outputs": [
    {
     "name": "stdout",
     "output_type": "stream",
     "text": [
      "Fold: 1\n",
      "Accuracy: 0.7386363636363636\n",
      "Precision: 0.8322981366459627\n",
      "Recall: 0.6036036036036037\n",
      "F1 Score: 0.6997389033942559\n",
      "\n",
      "\n",
      "Fold: 2\n",
      "Accuracy: 0.7454545454545455\n",
      "Precision: 0.8055555555555556\n",
      "Recall: 0.6531531531531531\n",
      "F1 Score: 0.7213930348258707\n",
      "\n",
      "\n",
      "Fold: 3\n",
      "Accuracy: 0.7818181818181819\n",
      "Precision: 0.7647058823529411\n",
      "Recall: 0.8198198198198198\n",
      "F1 Score: 0.7913043478260868\n",
      "\n",
      "\n",
      "Fold: 4\n",
      "Accuracy: 0.7061503416856492\n",
      "Precision: 0.7555555555555555\n",
      "Recall: 0.6153846153846154\n",
      "F1 Score: 0.6783042394014963\n",
      "\n",
      "\n",
      "Fold: 5\n",
      "Accuracy: 0.7425968109339408\n",
      "Precision: 0.7783505154639175\n",
      "Recall: 0.6832579185520362\n",
      "F1 Score: 0.7277108433734939\n",
      "\n",
      "\n",
      "Mean Metrics\n",
      "Mean Accuracy: 0.7429312487057362\n",
      "Mean Precision: 0.7872931291147864\n",
      "Mean Recall: 0.6750438221026457\n",
      "Mean F1 Score: 0.7236902737642408\n",
      "Best Estimator: 0\n",
      "Test Metrics\n",
      "              precision    recall  f1-score   support\n",
      "\n",
      "           0       0.67      0.81      0.73       272\n",
      "           1       0.76      0.60      0.67       278\n",
      "\n",
      "    accuracy                           0.71       550\n",
      "   macro avg       0.72      0.71      0.70       550\n",
      "weighted avg       0.72      0.71      0.70       550\n",
      "\n"
     ]
    },
    {
     "data": {
      "image/png": "[encoded data removed]",
      "text/plain": [
       "<Figure size 432x288 with 2 Axes>"
      ]
     },
     "metadata": {
      "needs_background": "light"
     },
     "output_type": "display_data"
    },
    {
     "data": {
      "image/png": "[encoded data removed]",
      "text/plain": [
       "<Figure size 432x288 with 1 Axes>"
      ]
     },
     "metadata": {
      "needs_background": "light"
     },
     "output_type": "display_data"
    }
   ],
   "source": [
    "clf = KNeighborsClassifier(n_neighbors=5)\n",
    "best_estimator = cross_validate_and_train(clf,X_train_tfidf,y_train)\n",
    "test_model(best_estimator,X_test_tfidf,y_test)"
   ]
  },
  {
   "cell_type": "code",
   "execution_count": 10,
   "metadata": {},
   "outputs": [
    {
     "name": "stdout",
     "output_type": "stream",
     "text": [
      "Fold: 1\n",
      "Accuracy: 0.6568181818181819\n",
      "Precision: 0.628158844765343\n",
      "Recall: 0.7837837837837838\n",
      "F1 Score: 0.6973947895791583\n",
      "\n",
      "\n",
      "Fold: 2\n",
      "Accuracy: 0.6818181818181818\n",
      "Precision: 0.7135416666666666\n",
      "Recall: 0.6171171171171171\n",
      "F1 Score: 0.6618357487922705\n",
      "\n",
      "\n",
      "Fold: 3\n",
      "Accuracy: 0.7136363636363636\n",
      "Precision: 0.6764705882352942\n",
      "Recall: 0.8288288288288288\n",
      "F1 Score: 0.7449392712550607\n",
      "\n",
      "\n",
      "Fold: 4\n",
      "Accuracy: 0.6355353075170843\n",
      "Precision: 0.6150943396226415\n",
      "Recall: 0.7375565610859729\n",
      "F1 Score: 0.6707818930041152\n",
      "\n",
      "\n",
      "Fold: 5\n",
      "Accuracy: 0.7107061503416856\n",
      "Precision: 0.7238095238095238\n",
      "Recall: 0.6877828054298643\n",
      "F1 Score: 0.7053364269141532\n",
      "\n",
      "\n",
      "Mean Metrics\n",
      "Mean Accuracy: 0.6797028370262994\n",
      "Mean Precision: 0.6714149926198938\n",
      "Mean Recall: 0.7310138192491135\n",
      "Mean F1 Score: 0.6960576259089517\n",
      "Best Estimator: 2\n",
      "Test Metrics\n",
      "              precision    recall  f1-score   support\n",
      "\n",
      "           0       0.71      0.59      0.64       272\n",
      "           1       0.66      0.76      0.70       278\n",
      "\n",
      "    accuracy                           0.68       550\n",
      "   macro avg       0.68      0.68      0.67       550\n",
      "weighted avg       0.68      0.68      0.67       550\n",
      "\n"
     ]
    },
    {
     "data": {
      "image/png": "[encoded data removed]",
      "text/plain": [
       "<Figure size 432x288 with 2 Axes>"
      ]
     },
     "metadata": {
      "needs_background": "light"
     },
     "output_type": "display_data"
    },
    {
     "data": {
      "image/png": "[encoded data removed]",
      "text/plain": [
       "<Figure size 432x288 with 1 Axes>"
      ]
     },
     "metadata": {
      "needs_background": "light"
     },
     "output_type": "display_data"
    }
   ],
   "source": [
    "clf = GaussianNB()\n",
    "best_estimator = cross_validate_and_train(clf,X_train_tfidf.toarray(),y_train)\n",
    "test_model(best_estimator,X_test_tfidf.toarray(),y_test)"
   ]
  },
  {
   "cell_type": "code",
   "execution_count": 11,
   "metadata": {},
   "outputs": [
    {
     "name": "stdout",
     "output_type": "stream",
     "text": [
      "Fold: 1\n",
      "Accuracy: 0.7681818181818182\n",
      "Precision: 0.803030303030303\n",
      "Recall: 0.7162162162162162\n",
      "F1 Score: 0.7571428571428571\n",
      "\n",
      "\n",
      "Fold: 2\n",
      "Accuracy: 0.7318181818181818\n",
      "Precision: 0.7429906542056075\n",
      "Recall: 0.7162162162162162\n",
      "F1 Score: 0.7293577981651376\n",
      "\n",
      "\n",
      "Fold: 3\n",
      "Accuracy: 0.7522727272727273\n",
      "Precision: 0.7445887445887446\n",
      "Recall: 0.7747747747747747\n",
      "F1 Score: 0.7593818984547461\n",
      "\n",
      "\n",
      "Fold: 4\n",
      "Accuracy: 0.7539863325740319\n",
      "Precision: 0.8054054054054054\n",
      "Recall: 0.6742081447963801\n",
      "F1 Score: 0.7339901477832512\n",
      "\n",
      "\n",
      "Fold: 5\n",
      "Accuracy: 0.7995444191343963\n",
      "Precision: 0.8308457711442786\n",
      "Recall: 0.755656108597285\n",
      "F1 Score: 0.791469194312796\n",
      "\n",
      "\n",
      "Mean Metrics\n",
      "Mean Accuracy: 0.7611606957962312\n",
      "Mean Precision: 0.785372175674868\n",
      "Mean Recall: 0.7274142921201745\n",
      "Mean F1 Score: 0.7542683791717577\n",
      "Best Estimator: 4\n",
      "Test Metrics\n",
      "              precision    recall  f1-score   support\n",
      "\n",
      "           0       0.73      0.75      0.74       272\n",
      "           1       0.75      0.72      0.74       278\n",
      "\n",
      "    accuracy                           0.74       550\n",
      "   macro avg       0.74      0.74      0.74       550\n",
      "weighted avg       0.74      0.74      0.74       550\n",
      "\n"
     ]
    },
    {
     "data": {
      "image/png": "[encoded data removed]",
      "text/plain": [
       "<Figure size 432x288 with 2 Axes>"
      ]
     },
     "metadata": {
      "needs_background": "light"
     },
     "output_type": "display_data"
    },
    {
     "data": {
      "image/png": "[encoded data removed]",
      "text/plain": [
       "<Figure size 432x288 with 1 Axes>"
      ]
     },
     "metadata": {
      "needs_background": "light"
     },
     "output_type": "display_data"
    }
   ],
   "source": [
    "clf = DecisionTreeClassifier()\n",
    "best_estimator = cross_validate_and_train(clf,X_train_tfidf,y_train)\n",
    "test_model(best_estimator,X_test_tfidf,y_test)"
   ]
  },
  {
   "cell_type": "code",
   "execution_count": 24,
   "metadata": {},
   "outputs": [
    {
     "data": {
      "text/plain": [
       "<1x4347 sparse matrix of type '<class 'numpy.float64'>'\n",
       "\twith 3 stored elements in Compressed Sparse Row format>"
      ]
     },
     "execution_count": 24,
     "metadata": {},
     "output_type": "execute_result"
    }
   ],
   "source": [
    "test_sentence = \"Awful movie, I hated it.\"\n",
    "\n",
    "def preprocess_test_data(test_sentence, imdb, amazon, yelp):\n",
    "    test_df = pd.DataFrame({'sentence': [test_sentence]})\n",
    "    data = concatenate_data(imdb, amazon, yelp)\n",
    "    X_train, _, _, _ = preprocess(data)\n",
    "    vectorizer = TfidfVectorizer()\n",
    "    vectorizer.fit(X_train)\n",
    "    stop_words = set(stopwords.words('english'))\n",
    "    tokenizer = RegexpTokenizer(r'\\w+')\n",
    "    test_df['sentence'] = test_df['sentence'].apply(lambda x: tokenizer.tokenize(x.lower()))\n",
    "    test_df['sentence'] = test_df['sentence'].apply(lambda x: [word for word in x if word not in stop_words])\n",
    "    test_df['sentence'] = test_df['sentence'].apply(lambda x: ' '.join(x))\n",
    "    test_df_tfid = vectorizer.transform(test_df['sentence'])\n",
    "    return test_df_tfid\n",
    "test_df_tfid = preprocess_test_data(test_sentence, True, True, True)\n",
    "test_df_tfid"
   ]
  },
  {
   "cell_type": "code",
   "execution_count": 25,
   "metadata": {},
   "outputs": [
    {
     "data": {
      "text/plain": [
       "array([0], dtype=int64)"
      ]
     },
     "execution_count": 25,
     "metadata": {},
     "output_type": "execute_result"
    }
   ],
   "source": [
    "def predict_sentiment(model, test_df_tfid):\n",
    "    y_pred = model.predict(test_df_tfid)\n",
    "    return y_pred\n",
    "predict_sentiment(best_estimator, test_df_tfid)"
   ]
  }
 ],
 "metadata": {
  "kernelspec": {
   "display_name": "Python 3",
   "language": "python",
   "name": "python3"
  },
  "language_info": {
   "codemirror_mode": {
    "name": "ipython",
    "version": 3
   },
   "file_extension": ".py",
   "mimetype": "text/x-python",
   "name": "python",
   "nbconvert_exporter": "python",
   "pygments_lexer": "ipython3",
   "version": "3.9.1"
  },
  "orig_nbformat": 4
 },
 "nbformat": 4,
 "nbformat_minor": 2
}
